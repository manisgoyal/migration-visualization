{
 "cells": [
  {
   "cell_type": "markdown",
   "id": "b5690e8d",
   "metadata": {},
   "source": [
    "## Importing modules"
   ]
  },
  {
   "cell_type": "code",
   "execution_count": 1,
   "id": "9f3f768a",
   "metadata": {},
   "outputs": [],
   "source": [
    "import pandas as pd\n",
    "import networkx as nx\n",
    "import numpy as np\n",
    "import matplotlib.pyplot as plt"
   ]
  },
  {
   "cell_type": "markdown",
   "id": "f721039b",
   "metadata": {},
   "source": [
    "## Function definition for edge weighted graph"
   ]
  },
  {
   "cell_type": "code",
   "execution_count": 2,
   "id": "95b69ded",
   "metadata": {},
   "outputs": [],
   "source": [
    "def draw_noWidth(df):\n",
    "    G = nx.from_pandas_edgelist(df, source='Source', target='Target', edge_attr='Value', create_using=nx.DiGraph())\n",
    "    plt.figure(figsize=(14, 14))\n",
    "    nx.draw_networkx(G, arrows=True)"
   ]
  },
  {
   "cell_type": "code",
   "execution_count": 3,
   "id": "7be4d769",
   "metadata": {},
   "outputs": [],
   "source": [
    "def draw_graph_width(df, widthFactor):\n",
    "    sumVal = df['Value'].sum()\n",
    "    width = df['Value']/sumVal * widthFactor\n",
    "    G = nx.from_pandas_edgelist(df, source='Source', target='Target', edge_attr='Value', create_using=nx.DiGraph())\n",
    "    plt.figure(figsize=(14, 14))\n",
    "    pos = nx.circular_layout(G)\n",
    "#     edge_labels = nx.get_edge_attributes(G, \"Value\")\n",
    "#     nx.draw_networkx_edge_labels(G, pos, edge_labels)\n",
    "    nx.draw_networkx(G, arrows=True, width = np.array(width), pos=pos)"
   ]
  },
  {
   "cell_type": "markdown",
   "id": "45c53469",
   "metadata": {},
   "source": [
    "## Preprocessing the Provided Data"
   ]
  },
  {
   "cell_type": "code",
   "execution_count": 14,
   "id": "76cfda5c",
   "metadata": {},
   "outputs": [],
   "source": [
    "countries_df = pd.read_csv('Refugee_Migration.csv')\n",
    "countries_df.dropna()\n",
    "countries_df.drop_duplicates()\n",
    "countries_df"
   ]
  },
  {
   "cell_type": "code",
   "execution_count": 5,
   "id": "820e12dc",
   "metadata": {
    "scrolled": true
   },
   "outputs": [],
   "source": [
    "# Removing latitudes and longitudes along with weights\n",
    "# Weights have been removed because the edge weights for each visualization is to be different as we have filters in place\n",
    "countries_df.drop(['lat_dest', 'lon_dest', 'lat_org', 'lon_org', 'weight'], axis=1, inplace=True)\n",
    "countries_df"
   ]
  },
  {
   "cell_type": "markdown",
   "id": "13d10653",
   "metadata": {},
   "source": [
    "## Filtering by year"
   ]
  },
  {
   "cell_type": "markdown",
   "id": "8dbabcb3",
   "metadata": {},
   "source": [
    "### Let's do 1980"
   ]
  },
  {
   "cell_type": "code",
   "execution_count": 6,
   "id": "732fc2b7",
   "metadata": {
    "scrolled": true
   },
   "outputs": [],
   "source": [
    "year1980_df = countries_df.where(countries_df.Year == 1980).dropna()\n",
    "year1980_df"
   ]
  },
  {
   "cell_type": "code",
   "execution_count": 7,
   "id": "652db2b1",
   "metadata": {},
   "outputs": [],
   "source": [
    "draw_noWidth(year1980_df)"
   ]
  },
  {
   "cell_type": "markdown",
   "id": "3bc78160",
   "metadata": {},
   "source": [
    "### One for 2014"
   ]
  },
  {
   "cell_type": "code",
   "execution_count": 8,
   "id": "cde7131c",
   "metadata": {
    "scrolled": true
   },
   "outputs": [],
   "source": [
    "year2014_df = countries_df.where(countries_df.Year == 2014).dropna()\n",
    "year2014_df"
   ]
  },
  {
   "cell_type": "markdown",
   "id": "f6ec940f",
   "metadata": {},
   "source": [
    "## Filtering by Destination"
   ]
  },
  {
   "cell_type": "markdown",
   "id": "82b90b98",
   "metadata": {},
   "source": [
    "### Let's do for target Germany on year 2007"
   ]
  },
  {
   "cell_type": "code",
   "execution_count": 9,
   "id": "7787978f",
   "metadata": {
    "scrolled": true
   },
   "outputs": [],
   "source": [
    "year2007_df = countries_df.where(countries_df.Year == 2007).dropna()\n",
    "year2007Ger_df = year2007_df.where(countries_df.Target == 'Germany').dropna()\n",
    "year2007Ger_df"
   ]
  },
  {
   "cell_type": "code",
   "execution_count": 10,
   "id": "e457674d",
   "metadata": {
    "scrolled": true
   },
   "outputs": [],
   "source": [
    "draw_graph_width(year2007Ger_df, 10)"
   ]
  },
  {
   "cell_type": "markdown",
   "id": "a5b2357c",
   "metadata": {},
   "source": [
    "## Filtering by Source"
   ]
  },
  {
   "cell_type": "markdown",
   "id": "0cc44acf",
   "metadata": {},
   "source": [
    "### Let's do for source Afghanistan on year 2007"
   ]
  },
  {
   "cell_type": "code",
   "execution_count": 11,
   "id": "8131339f",
   "metadata": {
    "scrolled": true
   },
   "outputs": [],
   "source": [
    "year2007_df = countries_df.where(countries_df.Year == 2007).dropna()\n",
    "year2007Afg_df = year2007_df.where(countries_df.Source == 'Afghanistan').dropna()\n",
    "year2007Afg_df"
   ]
  },
  {
   "cell_type": "code",
   "execution_count": 12,
   "id": "b23f4493",
   "metadata": {
    "scrolled": true
   },
   "outputs": [],
   "source": [
    "draw_graph_width(year2007Afg_df, 15)"
   ]
  },
  {
   "cell_type": "code",
   "execution_count": 13,
   "id": "62cb9dee",
   "metadata": {},
   "outputs": [],
   "source": [
    "draw_noWidth(year2007Afg_df)"
   ]
  }
 ],
 "metadata": {
  "kernelspec": {
   "display_name": "Python 3 (ipykernel)",
   "language": "python",
   "name": "python3"
  },
  "language_info": {
   "codemirror_mode": {
    "name": "ipython",
    "version": 3
   },
   "file_extension": ".py",
   "mimetype": "text/x-python",
   "name": "python",
   "nbconvert_exporter": "python",
   "pygments_lexer": "ipython3",
   "version": "3.11.2"
  }
 },
 "nbformat": 4,
 "nbformat_minor": 5
}
